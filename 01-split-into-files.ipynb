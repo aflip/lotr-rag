{
 "cells": [
  {
   "cell_type": "code",
   "execution_count": null,
   "metadata": {},
   "outputs": [],
   "source": [
    "%pip install epub3 markdown2"
   ]
  },
  {
   "cell_type": "code",
   "execution_count": 8,
   "metadata": {},
   "outputs": [],
   "source": [
    "def split_ebook(filename, output_dir):\n",
    "  \"\"\"Splits an ebook txt file into separate chapter files based on chapter titles.\n",
    "\n",
    "  Args:\n",
    "    filename: Path to the ebook txt file.\n",
    "    output_dir: Directory to save the split chapter files.\n",
    "  \"\"\"\n",
    "  with open(filename, 'r', encoding='latin1') as ebook_file:\n",
    "    chapter_num = 1\n",
    "    chapter_title = \"\"\n",
    "    chapter_content = \"\"\n",
    "    for line in ebook_file:\n",
    "      if line.startswith(\"chapter\"):\n",
    "        # Save previous chapter\n",
    "        if chapter_title and chapter_content:\n",
    "          with open(f\"{output_dir}/Chapter {chapter_num} - {chapter_title}.txt\", 'w') as chapter_file:\n",
    "            chapter_file.write(chapter_content)\n",
    "        chapter_num += 1\n",
    "        chapter_title = line.split()[2]  # Extract title after \"chapter\" and number\n",
    "        chapter_content = \"\"\n",
    "      else:\n",
    "        chapter_content += line\n",
    "    # Save the last chapter\n",
    "    if chapter_title and chapter_content:\n",
    "      with open(f\"{output_dir}/Chapter {chapter_num} - {chapter_title}.txt\", 'w') as chapter_file:\n",
    "        chapter_file.write(chapter_content)"
   ]
  },
  {
   "cell_type": "code",
   "execution_count": 10,
   "metadata": {},
   "outputs": [],
   "source": [
    "split_ebook(\"data/LOTR-1-3-John-Ronald-Reuel-Tolkien.txt\", \"data/LOTR-split-txt\")"
   ]
  },
  {
   "cell_type": "code",
   "execution_count": null,
   "metadata": {},
   "outputs": [],
   "source": [
    "from epub3 import ePub\n",
    "import markdown2\n",
    "\n",
    "def split_epub_to_md(epub_file, output_dir, book_title):\n",
    "  \"\"\"Splits an epub book into separate markdown (md) files for chapters.\n",
    "\n",
    "  Args:\n",
    "    epub_file: Path to the epub book file.\n",
    "    output_dir: Directory to save the split markdown chapter files.\n",
    "    book_title: Title of the book (used for consistent naming).\n",
    "  \"\"\"\n",
    "  book = ePub(epub_file)\n",
    "\n",
    "  # Loop through chapters\n",
    "  for i, item in enumerate(book.get_items(), start=1):\n",
    "    if item.get_type() == 'application/xhtml+xml':  # Check for chapter content\n",
    "      chapter_title = item.get_title() or f\"Chapter {i}\"  # Handle missing titles\n",
    "      chapter_content = item.get_content()\n",
    "\n",
    "      # Convert HTML to markdown and remove unnecessary elements\n",
    "      chapter_content = markdown2.markdown(chapter_content, extras=[\"break_on_newline\"])  # Convert to markdown\n",
    "      chapter_content = chapter_content.replace(\"<p>\", \"\").replace(\"</p>\", \"\\n\\n\")  # Remove paragraph tags\n",
    "\n",
    "      # Generate filename with book title, chapter number, and title\n",
    "      filename = f\"{output_dir}/{book_title}-chapter-{i}-{chapter_title}.md\"\n",
    "\n",
    "      with open(filename, 'w') as chapter_file:\n",
    "        chapter_file.write(chapter_content)\n",
    "\n",
    "# Replace with your epub file path, output directory, and book title\n",
    "split_epub_to_md(\"your_epub.epub\", \"split_chapters\", \"Your Book Title\")"
   ]
  }
 ],
 "metadata": {
  "kernelspec": {
   "display_name": "MS-baby-311",
   "language": "python",
   "name": "python3"
  },
  "language_info": {
   "codemirror_mode": {
    "name": "ipython",
    "version": 3
   },
   "file_extension": ".py",
   "mimetype": "text/x-python",
   "name": "python",
   "nbconvert_exporter": "python",
   "pygments_lexer": "ipython3",
   "version": "3.11.8"
  }
 },
 "nbformat": 4,
 "nbformat_minor": 2
}
